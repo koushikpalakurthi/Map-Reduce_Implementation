{
  "nbformat": 4,
  "nbformat_minor": 0,
  "metadata": {
    "colab": {
      "provenance": []
    },
    "kernelspec": {
      "name": "python3",
      "display_name": "Python 3"
    },
    "language_info": {
      "name": "python"
    }
  },
  "cells": [
    {
      "cell_type": "markdown",
      "source": [
        "**Install JDK & Spark**"
      ],
      "metadata": {
        "id": "zjyKWPQ-XJk9"
      }
    },
    {
      "cell_type": "code",
      "source": [
        "# Install Java and PySpark\n",
        "!apt-get install openjdk-11-jdk-headless -qq > /dev/null\n",
        "!pip install pyspark\n",
        "\n",
        "# Set environment variables for Java\n",
        "import os\n",
        "os.environ['JAVA_HOME'] = \"/usr/lib/jvm/java-11-openjdk-amd64\"\n"
      ],
      "metadata": {
        "id": "hx8Xk_AkbUDw"
      },
      "execution_count": null,
      "outputs": []
    },
    {
      "cell_type": "markdown",
      "source": [
        "**Setting Environment Variables**\n"
      ],
      "metadata": {
        "id": "_Kl7MzxkXc5j"
      }
    },
    {
      "cell_type": "code",
      "source": [
        "import os\n",
        "\n",
        "# Set environment variables\n",
        "os.environ[\"JAVA_HOME\"] = \"/usr/lib/jvm/java-8-openjdk-amd64\"\n",
        "os.environ[\"SPARK_HOME\"] = \"/content/spark-3.3.2-bin-hadoop3\""
      ],
      "metadata": {
        "id": "Eg6ia26bRxVT"
      },
      "execution_count": null,
      "outputs": []
    },
    {
      "cell_type": "markdown",
      "source": [
        "**Starting Spark Session**"
      ],
      "metadata": {
        "id": "Jboorz86XkLW"
      }
    },
    {
      "cell_type": "code",
      "source": [
        "import findspark\n",
        "findspark.init()\n",
        "\n",
        "from pyspark.sql import SparkSession\n",
        "\n",
        "# Create a Spark session\n",
        "spark = SparkSession.builder.master(\"local[*]\").getOrCreate()"
      ],
      "metadata": {
        "id": "vfgI-JXyR1Gr"
      },
      "execution_count": null,
      "outputs": []
    },
    {
      "cell_type": "markdown",
      "source": [
        "**Loading Dataset**"
      ],
      "metadata": {
        "id": "og8WhACaXvQH"
      }
    },
    {
      "cell_type": "code",
      "source": [
        "# Load CSV file into Spark DataFrame\n",
        "df = spark.read.csv('/vgchartz-2024.csv', header=True, inferSchema=True)\n",
        "\n",
        "# Show the first few rows of the DataFrame\n",
        "df.show(5)"
      ],
      "metadata": {
        "colab": {
          "base_uri": "https://localhost:8080/"
        },
        "id": "CDXzAE8G7RVB",
        "outputId": "2b67ab33-f5ef-4a82-91e9-2e0f2736c3c6"
      },
      "execution_count": null,
      "outputs": [
        {
          "output_type": "stream",
          "name": "stdout",
          "text": [
            "+--------------------+--------------------+-------+-------+--------------+--------------+------------+-----------+--------+--------+---------+-----------+-------------------+-------------------+\n",
            "|                 img|               title|console|  genre|     publisher|     developer|critic_score|total_sales|na_sales|jp_sales|pal_sales|other_sales|       release_date|        last_update|\n",
            "+--------------------+--------------------+-------+-------+--------------+--------------+------------+-----------+--------+--------+---------+-----------+-------------------+-------------------+\n",
            "|/games/boxart/ful...|  Grand Theft Auto V|    PS3| Action|Rockstar Games|Rockstar North|         9.4|      20.32|    6.37|    0.99|     9.85|       3.12|2013-09-17 00:00:00|               null|\n",
            "|/games/boxart/ful...|  Grand Theft Auto V|    PS4| Action|Rockstar Games|Rockstar North|         9.7|      19.39|    6.06|     0.6|     9.71|       3.02|2014-11-18 00:00:00|2018-01-03 00:00:00|\n",
            "|/games/boxart/827...|Grand Theft Auto:...|    PS2| Action|Rockstar Games|Rockstar North|         9.6|      16.15|    8.41|    0.47|     5.49|       1.78|2002-10-28 00:00:00|               null|\n",
            "|/games/boxart/ful...|  Grand Theft Auto V|   X360| Action|Rockstar Games|Rockstar North|        null|      15.86|    9.06|    0.06|     5.33|       1.42|2013-09-17 00:00:00|               null|\n",
            "|/games/boxart/ful...|Call of Duty: Bla...|    PS4|Shooter|    Activision|      Treyarch|         8.1|      15.09|    6.18|    0.41|     6.05|       2.44|2015-11-06 00:00:00|2018-01-14 00:00:00|\n",
            "+--------------------+--------------------+-------+-------+--------------+--------------+------------+-----------+--------+--------+---------+-----------+-------------------+-------------------+\n",
            "only showing top 5 rows\n",
            "\n"
          ]
        }
      ]
    },
    {
      "cell_type": "code",
      "source": [
        "# Load the dataset into an RDD\n",
        "file_path = \"/vgchartz-2024.csv\"  # Update to match your file path in Colab\n",
        "rdd = spark.sparkContext.textFile(file_path)\n"
      ],
      "metadata": {
        "id": "mJEAIedxd96i"
      },
      "execution_count": 4,
      "outputs": []
    },
    {
      "cell_type": "code",
      "source": [
        "# Extract header and data\n",
        "header = rdd.first()\n",
        "rdd = rdd.filter(lambda row: row != header)  # Remove header row\n"
      ],
      "metadata": {
        "id": "xqlH7_rPeHO3"
      },
      "execution_count": 5,
      "outputs": []
    },
    {
      "cell_type": "markdown",
      "source": [
        " **Mapper**"
      ],
      "metadata": {
        "id": "KkzjzO8CfAhU"
      }
    },
    {
      "cell_type": "code",
      "source": [
        "# Mapper function: Parse the CSV row and calculate sales disparity\n",
        "def mapper(row):\n",
        "    try:\n",
        "        fields = row.split(',')\n",
        "        console = fields[2]\n",
        "        na_sales = float(fields[8]) if fields[8] else 0.0\n",
        "        jp_sales = float(fields[9]) if fields[9] else 0.0\n",
        "        sales_disparity = abs(na_sales - jp_sales)\n",
        "        return (console, (sales_disparity, na_sales, jp_sales))\n",
        "    except ValueError:\n",
        "        # Handle rows with invalid data\n",
        "        return (None, (0.0, 0.0, 0.0))  # Return a default value for invalid rows\n",
        "# Apply mapper\n",
        "mapped_rdd = rdd.map(mapper)\n",
        "\n",
        "# Filter out invalid rows (where console is None)\n",
        "filtered_rdd = mapped_rdd.filter(lambda x: x[0] is not None)\n"
      ],
      "metadata": {
        "id": "t0XW6tQYeLv6"
      },
      "execution_count": 6,
      "outputs": []
    },
    {
      "cell_type": "markdown",
      "source": [
        "**Reducer**"
      ],
      "metadata": {
        "id": "UMnfSSZPfZVh"
      }
    },
    {
      "cell_type": "code",
      "source": [
        "# Reducer function: Aggregate sales disparity, NA sales, and JP sales for each console\n",
        "def reducer(a, b):\n",
        "    total_sales_disparity = a[0] + b[0]\n",
        "    total_na_sales = a[1] + b[1]\n",
        "    total_jp_sales = a[2] + b[2]\n",
        "    return (total_sales_disparity, total_na_sales, total_jp_sales)\n",
        "\n",
        "# Apply reducer\n",
        "reduced_rdd = filtered_rdd.reduceByKey(reducer)\n"
      ],
      "metadata": {
        "id": "Xt1QXlcOebk5"
      },
      "execution_count": 7,
      "outputs": []
    },
    {
      "cell_type": "markdown",
      "source": [
        "**Post Processing**"
      ],
      "metadata": {
        "id": "irWH6UsdfeFx"
      }
    },
    {
      "cell_type": "code",
      "source": [
        "# Convert RDD to DataFrame with explicit schema\n",
        "def rdd_to_row(record):\n",
        "    console, values = record\n",
        "    sales_disparity, na_sales, jp_sales = values\n",
        "    return Row(console=console, total_sales_disparity=sales_disparity, total_na_sales=na_sales, total_jp_sales=jp_sales)\n",
        "\n",
        "rows_rdd = reduced_rdd.map(rdd_to_row)\n",
        "disparity_by_console_df = spark.createDataFrame(rows_rdd)\n",
        "\n",
        "# Create a window to rank consoles by their sales disparity\n",
        "windowSpec = Window.orderBy(F.desc(\"total_sales_disparity\"))\n",
        "\n",
        "# Apply ranking to find consoles with the highest sales disparity\n",
        "disparity_ranked = disparity_by_console_df.withColumn(\"rank\", F.row_number().over(windowSpec))\n",
        "\n",
        "# Display the top consoles with the highest sales disparity\n",
        "top_disparity_consoles = disparity_ranked.filter(disparity_ranked[\"rank\"] <= 10)  # Show top 10 for example\n",
        "top_disparity_consoles.show(10, truncate=False)\n"
      ],
      "metadata": {
        "colab": {
          "base_uri": "https://localhost:8080/"
        },
        "id": "CzOkNddMeggm",
        "outputId": "d80ab370-b8ba-4d5b-f9e6-e8443d80e679"
      },
      "execution_count": 8,
      "outputs": [
        {
          "output_type": "stream",
          "name": "stdout",
          "text": [
            "+-------+---------------------+------------------+------------------+----+\n",
            "|console|total_sales_disparity|total_na_sales    |total_jp_sales    |rank|\n",
            "+-------+---------------------+------------------+------------------+----+\n",
            "|PS2    |533.9999999999843    |493.38999999999714|92.11000000000024 |1   |\n",
            "|X360   |518.8899999999962    |529.3100000000005 |14.139999999999917|2   |\n",
            "|PS3    |343.30999999999784   |352.4699999999998 |68.90000000000023 |3   |\n",
            "|PS     |313.2199999999978    |265.8299999999987 |92.97000000000004 |4   |\n",
            "|DS     |293.4899999999938    |267.06999999999874|70.70000000000064 |5   |\n",
            "|Wii    |283.4199999999978    |289.0099999999983 |25.410000000000053|6   |\n",
            "|PS4    |181.34000000000066   |192.65000000000092|31.21000000000012 |7   |\n",
            "|XB     |164.4100000000008    |167.58000000000064|3.349999999999998 |8   |\n",
            "|XOne   |163.91000000000057   |164.6500000000006 |0.7800000000000002|9   |\n",
            "|GBA    |148.7300000000006    |139.66000000000034|26.570000000000007|10  |\n",
            "+-------+---------------------+------------------+------------------+----+\n",
            "\n"
          ]
        }
      ]
    },
    {
      "cell_type": "markdown",
      "source": [
        "**Sales trends by Genre**"
      ],
      "metadata": {
        "id": "IWeWKqrujq5w"
      }
    },
    {
      "cell_type": "code",
      "source": [
        "spark = SparkSession.builder.appName(\"VideoGameSalesAnalysis\").getOrCreate()\n",
        "\n",
        "# Load the dataframe\n",
        "df = spark.read.csv('/vgchartz-2024.csv', header=True, inferSchema=True)\n",
        "\n",
        "# Convert release_date to DateType and extract year\n",
        "df = df.withColumn(\"release_date\", F.to_date(\"release_date\", \"yyyy-MM-dd\"))\n",
        "df = df.withColumn(\"release_year\", F.year(F.col(\"release_date\")))\n",
        "\n",
        "# Group by genre and year, then calculate total sales disparity\n",
        "sales_trends_df = df.groupBy(\"genre\", \"release_year\").agg(\n",
        "    F.sum(\"na_sales\").alias(\"total_na_sales\"),\n",
        "    F.sum(\"jp_sales\").alias(\"total_jp_sales\")\n",
        ").withColumn(\n",
        "    \"sales_disparity\", F.abs(F.col(\"total_na_sales\") - F.col(\"total_jp_sales\"))\n",
        ")\n",
        "\n",
        "# Show trends for top 5 genres by total sales disparity\n",
        "sales_trends_df.orderBy(F.desc(\"sales_disparity\")).show(10, truncate=False)"
      ],
      "metadata": {
        "colab": {
          "base_uri": "https://localhost:8080/"
        },
        "id": "oFaSxRQki189",
        "outputId": "45c6eda8-6a75-4c64-fcc1-9fab4036f333"
      },
      "execution_count": 12,
      "outputs": [
        {
          "output_type": "stream",
          "name": "stdout",
          "text": [
            "+-------+------------+------------------+------------------+------------------+\n",
            "|genre  |release_year|total_na_sales    |total_jp_sales    |sales_disparity   |\n",
            "+-------+------------+------------------+------------------+------------------+\n",
            "|Misc   |2008        |48.600000000000016|3.019999999999997 |45.58000000000002 |\n",
            "|Action |2009        |51.25000000000002 |6.629999999999998 |44.620000000000026|\n",
            "|Shooter|2011        |45.3              |2.09              |43.209999999999994|\n",
            "|Action |2007        |46.04             |3.5199999999999965|42.52             |\n",
            "|Shooter|2010        |43.660000000000004|2.22              |41.440000000000005|\n",
            "|Sports |2009        |44.96000000000001 |3.9099999999999984|41.05000000000001 |\n",
            "|Sports |2010        |45.200000000000045|4.299999999999998 |40.90000000000005 |\n",
            "|Sports |2008        |45.849999999999994|6.599999999999997 |39.25             |\n",
            "|Action |2008        |42.58999999999996 |4.019999999999999 |38.569999999999965|\n",
            "|Action |2010        |44.68000000000006 |6.409999999999994 |38.27000000000006 |\n",
            "+-------+------------+------------------+------------------+------------------+\n",
            "only showing top 10 rows\n",
            "\n"
          ]
        }
      ]
    }
  ]
}